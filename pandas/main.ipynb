{
 "cells": [
  {
   "cell_type": "markdown",
   "id": "29acec1f",
   "metadata": {},
   "source": [
    "<p style=\"font-size: 20px; color:#00ff00; text-align: center\">\n",
    "    Importando LIB\n",
    "</p>"
   ]
  },
  {
   "cell_type": "code",
   "execution_count": null,
   "id": "194777c9",
   "metadata": {},
   "outputs": [],
   "source": []
  },
  {
   "cell_type": "markdown",
   "id": "236d3bc8",
   "metadata": {},
   "source": [
    "<p style=\"font-size: 20px; color:#00ff00; text-align: center\">\n",
    "    Importando bases de dados\n",
    "</p>"
   ]
  },
  {
   "cell_type": "code",
   "execution_count": null,
   "id": "bcbfcda3",
   "metadata": {},
   "outputs": [],
   "source": []
  },
  {
   "cell_type": "markdown",
   "id": "e00af603",
   "metadata": {},
   "source": [
    "<p style=\"font-size: 20px; color:#00ff00; text-align: center\">\n",
    "    Lendo arquivo de vendas corretamente e mesclando e salvando dados"
   ]
  },
  {
   "cell_type": "code",
   "execution_count": null,
   "id": "c8683ad5",
   "metadata": {},
   "outputs": [],
   "source": []
  },
  {
   "cell_type": "markdown",
   "id": "2b55109d",
   "metadata": {},
   "source": [
    "<p style=\"font-size: 20px; color:#00ff00; text-align: center\">\n",
    "    Análise básica\n",
    "</p>"
   ]
  },
  {
   "cell_type": "code",
   "execution_count": null,
   "id": "e23b7ed8",
   "metadata": {},
   "outputs": [],
   "source": []
  },
  {
   "cell_type": "markdown",
   "id": "bb16f1d7",
   "metadata": {},
   "source": [
    "<p style=\"font-size: 20px; color:#00ff00; text-align: center\">\n",
    "Faturamento"
   ]
  },
  {
   "cell_type": "code",
   "execution_count": null,
   "id": "037ce3ca",
   "metadata": {},
   "outputs": [],
   "source": []
  },
  {
   "cell_type": "markdown",
   "id": "0ba45907",
   "metadata": {},
   "source": [
    "<p style=\"font-size: 20px; color:#00ff00; text-align: center\">\n",
    "Faturamento formatando para moeda local"
   ]
  },
  {
   "cell_type": "code",
   "execution_count": null,
   "id": "9a9544e3",
   "metadata": {},
   "outputs": [],
   "source": []
  }
 ],
 "metadata": {
  "kernelspec": {
   "display_name": "Python 3",
   "language": "python",
   "name": "python3"
  },
  "language_info": {
   "codemirror_mode": {
    "name": "ipython",
    "version": 3
   },
   "file_extension": ".py",
   "mimetype": "text/x-python",
   "name": "python",
   "nbconvert_exporter": "python",
   "pygments_lexer": "ipython3",
   "version": "3.13.0"
  }
 },
 "nbformat": 4,
 "nbformat_minor": 5
}
