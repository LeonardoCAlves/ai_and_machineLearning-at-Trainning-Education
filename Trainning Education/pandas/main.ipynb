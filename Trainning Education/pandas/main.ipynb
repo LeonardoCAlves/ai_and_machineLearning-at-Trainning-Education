{
 "cells": [
  {
   "cell_type": "markdown",
   "id": "29acec1f",
   "metadata": {},
   "source": [
    "<p style=\"font-size: 20px; color:#00ff00; text-align: center\">\n",
    "    Importando LIB\n",
    "</p>"
   ]
  },
  {
   "cell_type": "code",
   "execution_count": 1,
   "id": "194777c9",
   "metadata": {},
   "outputs": [],
   "source": [
    "import pandas as pd"
   ]
  },
  {
   "cell_type": "markdown",
   "id": "236d3bc8",
   "metadata": {},
   "source": [
    "<p style=\"font-size: 20px; color:#00ff00; text-align: center\">\n",
    "    Importando bases de dados\n",
    "</p>"
   ]
  },
  {
   "cell_type": "code",
   "execution_count": 23,
   "id": "bcbfcda3",
   "metadata": {},
   "outputs": [],
   "source": [
    "df_vendas = pd.read_excel(\n",
    "    r'data\\vendas.xlsx',\n",
    "    sheet_name=1,\n",
    "    skiprows=10,\n",
    "    usecols= ['Plano Vendido', 'Valor Mensal', 'Fk Cliente'],\n",
    "    dtype= {'Valor Mensal': float},\n",
    "    na_values= ['NaN', 'n/s', '#ND']\n",
    ")\n",
    "\n",
    "df_clientes = pd.read_excel(\n",
    "    r'data\\vendas.xlsx',\n",
    "    sheet_name=3,\n",
    "    skiprows=4,\n",
    "    usecols=['ID', 'Cliente', 'Cidade'],\n",
    "    na_values=['NaN', 'n/s', '#ND']\n",
    ")"
   ]
  },
  {
   "cell_type": "markdown",
   "id": "e00af603",
   "metadata": {},
   "source": [
    "<p style=\"font-size: 20px; color:#00ff00; text-align: center\">\n",
    "    Lendo arquivo de vendas corretamente e mesclando e salvando dados"
   ]
  },
  {
   "cell_type": "code",
   "execution_count": 26,
   "id": "c8683ad5",
   "metadata": {},
   "outputs": [],
   "source": [
    "df = pd.merge(\n",
    "    df_clientes, df_vendas,\n",
    "    left_on='ID',\n",
    "    right_on='Fk Cliente'\n",
    ")"
   ]
  },
  {
   "cell_type": "code",
   "execution_count": 28,
   "id": "8e518b47",
   "metadata": {},
   "outputs": [],
   "source": [
    "# Salvando os dados tratados\n",
    "df.to_excel(\n",
    "    r'data\\pedidos.xlsx', \n",
    "    sheet_name='Pedidos',\n",
    "    index=False\n",
    ")"
   ]
  },
  {
   "cell_type": "markdown",
   "id": "2b55109d",
   "metadata": {},
   "source": [
    "<p style=\"font-size: 20px; color:#00ff00; text-align: center\">\n",
    "    Análise básica\n",
    "</p>"
   ]
  },
  {
   "cell_type": "code",
   "execution_count": null,
   "id": "e23b7ed8",
   "metadata": {},
   "outputs": [],
   "source": [
    "df_carros = pd.read_csv(\n",
    "    r'data\\carros.csv',\n",
    "    delimiter=';' \n",
    ")\n",
    "\n",
    "# df_carros.info()\n",
    "# df_carros.shape\n",
    "# df_carros.dtypes"
   ]
  },
  {
   "cell_type": "markdown",
   "id": "bb16f1d7",
   "metadata": {},
   "source": [
    "<p style=\"font-size: 20px; color:#00ff00; text-align: center\">\n",
    "Faturamento"
   ]
  },
  {
   "cell_type": "code",
   "execution_count": 44,
   "id": "037ce3ca",
   "metadata": {},
   "outputs": [
    {
     "data": {
      "text/plain": [
       "Index(['ID_Pedido', 'Data_Pedido', 'ID_Cliente', 'Produto',\n",
       "       'Quantidade_Vendida', 'Preco_Unitario', 'Metodo_Pagamento',\n",
       "       'Status_Pagamento', 'Regiao', 'Canal_Venda'],\n",
       "      dtype='object')"
      ]
     },
     "execution_count": 44,
     "metadata": {},
     "output_type": "execute_result"
    }
   ],
   "source": [
    "df_pedidos = pd.read_json(\n",
    "    r'data\\pedidos.json'\n",
    ")\n",
    "\n",
    "df_pedidos.columns"
   ]
  },
  {
   "cell_type": "code",
   "execution_count": 46,
   "id": "e7c14dbc",
   "metadata": {},
   "outputs": [
    {
     "data": {
      "text/plain": [
       "2644420.9"
      ]
     },
     "execution_count": 46,
     "metadata": {},
     "output_type": "execute_result"
    }
   ],
   "source": [
    "faturamento = (df_pedidos['Preco_Unitario'] * \n",
    "                df_pedidos['Quantidade_Vendida']).sum()\n",
    "faturamento"
   ]
  },
  {
   "cell_type": "markdown",
   "id": "0ba45907",
   "metadata": {},
   "source": [
    "<p style=\"font-size: 20px; color:#00ff00; text-align: center\">\n",
    "Faturamento formatando para moeda local"
   ]
  },
  {
   "cell_type": "code",
   "execution_count": 48,
   "id": "9a9544e3",
   "metadata": {},
   "outputs": [
    {
     "data": {
      "text/plain": [
       "'R$ 2.644.420,90'"
      ]
     },
     "execution_count": 48,
     "metadata": {},
     "output_type": "execute_result"
    }
   ],
   "source": [
    "import locale\n",
    "\n",
    "try:\n",
    "    locale.setlocale(locale.LC_ALL, 'pt_BR.URF-8')\n",
    "except locale.Error as e:\n",
    "    print(e)\n",
    "\n",
    "locale.currency(faturamento, grouping=True)"
   ]
  }
 ],
 "metadata": {
  "kernelspec": {
   "display_name": "Python 3",
   "language": "python",
   "name": "python3"
  },
  "language_info": {
   "codemirror_mode": {
    "name": "ipython",
    "version": 3
   },
   "file_extension": ".py",
   "mimetype": "text/x-python",
   "name": "python",
   "nbconvert_exporter": "python",
   "pygments_lexer": "ipython3",
   "version": "3.13.0"
  }
 },
 "nbformat": 4,
 "nbformat_minor": 5
}
